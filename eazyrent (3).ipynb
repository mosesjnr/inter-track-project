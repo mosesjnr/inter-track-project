{
  "nbformat": 4,
  "nbformat_minor": 0,
  "metadata": {
    "kernelspec": {
      "display_name": "Python 3",
      "language": "python",
      "name": "python3"
    },
    "language_info": {
      "codemirror_mode": {
        "name": "ipython",
        "version": 3
      },
      "file_extension": ".py",
      "mimetype": "text/x-python",
      "name": "python",
      "nbconvert_exporter": "python",
      "pygments_lexer": "ipython3",
      "version": "3.7.6"
    },
    "colab": {
      "name": "eazyrent (3).ipynb",
      "provenance": [],
      "toc_visible": true
    }
  },
  "cells": [
    {
      "cell_type": "code",
      "metadata": {
        "id": "kP1axSh4mafO"
      },
      "source": [
        "# import libraries\n",
        "import requests\n",
        "from bs4 import BeautifulSoup\n",
        "import pandas as pd\n",
        "import matplotlib.pyplot as plt\n",
        "import seaborn as sns\n",
        "from requests import get\n",
        "import numpy as np\n",
        "import time\n",
        "from time import sleep"
      ],
      "execution_count": 1,
      "outputs": []
    },
    {
      "cell_type": "markdown",
      "metadata": {
        "id": "RbPvyrb4mafZ"
      },
      "source": [
        "#### Beautiful Soup will help us read this html. It picks the text from the response and parses the information in a way that makes it easier for us to navigate in its structure and get its contents.\n",
        "#### The requests module allows you to send HTTP requests using Python"
      ]
    },
    {
      "cell_type": "code",
      "metadata": {
        "id": "_ItdjOBDmafb"
      },
      "source": [
        "# Assigning the url(Uniform Resource Locator) of website from which data needs to be scarpped.\n",
        "base_url = 'https://www.propertypro.ng/property-for-rent/in/lagos'\n",
        "headers = {'User-Agent': 'Mozilla/5.0 (Windows NT 10.0; Win64; x64) AppleWebKit/537.36 (KHTML, like Gecko) Chrome/86.0.4240.198 Safari/537.36'}"
      ],
      "execution_count": 2,
      "outputs": []
    },
    {
      "cell_type": "markdown",
      "metadata": {
        "id": "EzjXspnTmafd"
      },
      "source": [
        "#### Now, let's test if we can communicate with the website. You can get several codes from this command, but if we get '200' it’s usually a sign that we’re good to go."
      ]
    },
    {
      "cell_type": "code",
      "metadata": {
        "id": "lY7YdJ57mafh",
        "outputId": "8d137445-8897-40b5-a3bc-88b2948bfe9e",
        "colab": {
          "base_uri": "https://localhost:8080/"
        }
      },
      "source": [
        "soup = BeautifulSoup(r.text, 'html.parser')\n",
        "print(soup.title.get_text())"
      ],
      "execution_count": 4,
      "outputs": [
        {
          "output_type": "stream",
          "text": [
            " Property & Houses for rent  in Lagos   (23,930 listings) | PropertyPro.ng\n"
          ],
          "name": "stdout"
        }
      ]
    },
    {
      "cell_type": "code",
      "metadata": {
        "id": "hit1z8Jnmafi"
      },
      "source": [
        "titles = soup.select('.single-room-text > a > h2')"
      ],
      "execution_count": 7,
      "outputs": []
    },
    {
      "cell_type": "code",
      "metadata": {
        "id": "1bhs4tKRmafi",
        "outputId": "2dcbcadc-4978-43a7-d4b6-a9973905fcd5",
        "colab": {
          "base_uri": "https://localhost:8080/"
        }
      },
      "source": [
        "len(titles)"
      ],
      "execution_count": 8,
      "outputs": [
        {
          "output_type": "execute_result",
          "data": {
            "text/plain": [
              "22"
            ]
          },
          "metadata": {
            "tags": []
          },
          "execution_count": 8
        }
      ]
    },
    {
      "cell_type": "code",
      "metadata": {
        "id": "HtVTh-5Mmafn"
      },
      "source": [
        "locations = soup.select('.single-room-text > h4')"
      ],
      "execution_count": 15,
      "outputs": []
    },
    {
      "cell_type": "code",
      "metadata": {
        "id": "Z0shiC90mafo",
        "outputId": "1bf1a18e-b105-4c41-ca9d-e4c6931127b2",
        "colab": {
          "base_uri": "https://localhost:8080/"
        }
      },
      "source": [
        "len(locations)"
      ],
      "execution_count": 16,
      "outputs": [
        {
          "output_type": "execute_result",
          "data": {
            "text/plain": [
              "22"
            ]
          },
          "metadata": {
            "tags": []
          },
          "execution_count": 16
        }
      ]
    },
    {
      "cell_type": "code",
      "metadata": {
        "id": "oEvyACljmafo",
        "outputId": "8349d4a8-c010-447a-ba39-ea37d8dc8979",
        "colab": {
          "base_uri": "https://localhost:8080/"
        }
      },
      "source": [
        "# find all locations\n",
        "locations_list = []\n",
        "for i in locations:\n",
        "    loc = i.get_text().split()\n",
        "    loc = loc[-2]\n",
        "    loc = loc.replace(',', '')\n",
        "    locations_list.append(loc)\n",
        "locations_list"
      ],
      "execution_count": 17,
      "outputs": [
        {
          "output_type": "execute_result",
          "data": {
            "text/plain": [
              "['Ikoyi',\n",
              " 'Ikoyi',\n",
              " 'Ikoyi',\n",
              " 'Ikoyi',\n",
              " 'Ikoyi',\n",
              " 'Ikoyi',\n",
              " 'Ikoyi',\n",
              " 'Ikoyi',\n",
              " 'Island',\n",
              " 'Ikoyi',\n",
              " 'Ikoyi',\n",
              " 'Ikoyi',\n",
              " 'Maryland',\n",
              " 'Lekki',\n",
              " 'Lekki',\n",
              " 'Ikoyi',\n",
              " 'Ikoyi',\n",
              " 'Ikoyi',\n",
              " 'Ikeja',\n",
              " 'Ikeja',\n",
              " 'Lekki',\n",
              " 'Surulere']"
            ]
          },
          "metadata": {
            "tags": []
          },
          "execution_count": 17
        }
      ]
    },
    {
      "cell_type": "code",
      "metadata": {
        "id": "D076NKePmafp"
      },
      "source": [
        "Amenities = soup.select('.fur-areea > span')"
      ],
      "execution_count": 18,
      "outputs": []
    },
    {
      "cell_type": "code",
      "metadata": {
        "id": "63iqKjCYmafp",
        "outputId": "973ecf34-fa2c-496d-ea4d-d0a91cacbeb9",
        "colab": {
          "base_uri": "https://localhost:8080/"
        }
      },
      "source": [
        "len(Amenities)"
      ],
      "execution_count": 19,
      "outputs": [
        {
          "output_type": "execute_result",
          "data": {
            "text/plain": [
              "66"
            ]
          },
          "metadata": {
            "tags": []
          },
          "execution_count": 19
        }
      ]
    },
    {
      "cell_type": "code",
      "metadata": {
        "id": "9WBsYERFmafp",
        "outputId": "57022adb-caf8-405a-98a8-7c92da839688",
        "colab": {
          "base_uri": "https://localhost:8080/",
          "height": 35
        }
      },
      "source": [
        "Amenities[3].text"
      ],
      "execution_count": 20,
      "outputs": [
        {
          "output_type": "execute_result",
          "data": {
            "application/vnd.google.colaboratory.intrinsic+json": {
              "type": "string"
            },
            "text/plain": [
              "'4 beds'"
            ]
          },
          "metadata": {
            "tags": []
          },
          "execution_count": 20
        }
      ]
    },
    {
      "cell_type": "code",
      "metadata": {
        "id": "pd2MdkXamafq"
      },
      "source": [
        "# Let's write a function to fix all the amenities into a list\n",
        "\n",
        "toilet_list = []\n",
        "bathroom_list = []\n",
        "bedroom_list = []\n",
        "\n",
        "for i, a in enumerate(Amenities):\n",
        "    if i in range(2,66,3):\n",
        "        a = a.get_text().split()\n",
        "        toilet = a[0]\n",
        "        toilet_list.append(toilet)\n",
        "    elif i in range(1,66,3):\n",
        "        a = a.get_text().split()\n",
        "        bathroom = a[0]\n",
        "        bathroom_list.append(bathroom)\n",
        "    elif i in range (0,66,3):\n",
        "        a = a.get_text().split()\n",
        "        bedroom = a[0]\n",
        "        bedroom_list.append(bedroom)"
      ],
      "execution_count": 21,
      "outputs": []
    },
    {
      "cell_type": "code",
      "metadata": {
        "id": "FA6OIa8Ymafr",
        "outputId": "45a2bb4b-5cc9-45de-f947-4b65be490e8b"
      },
      "source": [
        "toilet_list"
      ],
      "execution_count": null,
      "outputs": [
        {
          "output_type": "execute_result",
          "data": {
            "text/plain": [
              "['5',\n",
              " '3',\n",
              " '4',\n",
              " '5',\n",
              " '6',\n",
              " '6',\n",
              " 'Toilets',\n",
              " '5',\n",
              " '5',\n",
              " '4',\n",
              " '6',\n",
              " '4',\n",
              " '4',\n",
              " '3',\n",
              " '4',\n",
              " 'Toilets',\n",
              " '4',\n",
              " '4',\n",
              " '5',\n",
              " '4',\n",
              " '5',\n",
              " '3']"
            ]
          },
          "metadata": {
            "tags": []
          },
          "execution_count": 21
        }
      ]
    },
    {
      "cell_type": "code",
      "metadata": {
        "id": "lrFZbNnwmafr",
        "outputId": "7697e6c1-8419-438d-b275-b18bd6e63cf4",
        "colab": {
          "base_uri": "https://localhost:8080/"
        }
      },
      "source": [
        "len(toilet_list)"
      ],
      "execution_count": 22,
      "outputs": [
        {
          "output_type": "execute_result",
          "data": {
            "text/plain": [
              "22"
            ]
          },
          "metadata": {
            "tags": []
          },
          "execution_count": 22
        }
      ]
    },
    {
      "cell_type": "code",
      "metadata": {
        "id": "85CbTaIxmafs",
        "outputId": "cd36b7a9-c8d5-4b12-caed-b312e56068b8",
        "colab": {
          "base_uri": "https://localhost:8080/"
        }
      },
      "source": [
        "bathroom_list"
      ],
      "execution_count": 23,
      "outputs": [
        {
          "output_type": "execute_result",
          "data": {
            "text/plain": [
              "['4',\n",
              " '4',\n",
              " '5',\n",
              " '5',\n",
              " '2',\n",
              " '3',\n",
              " '3',\n",
              " '3',\n",
              " 'baths',\n",
              " '4',\n",
              " '6',\n",
              " '4',\n",
              " 'baths',\n",
              " '4',\n",
              " 'baths',\n",
              " '4',\n",
              " '5',\n",
              " '2',\n",
              " '3',\n",
              " 'baths',\n",
              " '4',\n",
              " '4']"
            ]
          },
          "metadata": {
            "tags": []
          },
          "execution_count": 23
        }
      ]
    },
    {
      "cell_type": "code",
      "metadata": {
        "id": "d3Lri3ifmafs",
        "outputId": "ebbedb3a-8149-429f-c719-7d47264c89ef",
        "colab": {
          "base_uri": "https://localhost:8080/"
        }
      },
      "source": [
        "len(bathroom_list)"
      ],
      "execution_count": 24,
      "outputs": [
        {
          "output_type": "execute_result",
          "data": {
            "text/plain": [
              "22"
            ]
          },
          "metadata": {
            "tags": []
          },
          "execution_count": 24
        }
      ]
    },
    {
      "cell_type": "code",
      "metadata": {
        "id": "4UA4OIeimafs",
        "outputId": "820aa9f4-da93-48c7-b814-7d21e3fed546",
        "colab": {
          "base_uri": "https://localhost:8080/"
        }
      },
      "source": [
        "bedroom_list"
      ],
      "execution_count": 25,
      "outputs": [
        {
          "output_type": "execute_result",
          "data": {
            "text/plain": [
              "['4',\n",
              " '4',\n",
              " '4',\n",
              " '5',\n",
              " '2',\n",
              " '3',\n",
              " '3',\n",
              " '3',\n",
              " 'beds',\n",
              " '4',\n",
              " '6',\n",
              " '4',\n",
              " 'beds',\n",
              " '4',\n",
              " 'beds',\n",
              " '4',\n",
              " '5',\n",
              " '2',\n",
              " '3',\n",
              " 'beds',\n",
              " '4',\n",
              " '3']"
            ]
          },
          "metadata": {
            "tags": []
          },
          "execution_count": 25
        }
      ]
    },
    {
      "cell_type": "code",
      "metadata": {
        "id": "YNUt-Bkkmaft"
      },
      "source": [
        "def price_sep(link):\r\n",
        "  reque = requests.get(link, headers=headers)\r\n",
        "  soup_ = BeautifulSoup(reque.text, 'html.parser')\r\n",
        "  prices = soup_.select('.n50 > h3 > span')\r\n",
        "  prices_list = []\r\n",
        "  for i, price in enumerate(prices):\r\n",
        "    if i % 2 != 0:\r\n",
        "      price = price.get_text()\r\n",
        "      price = price.replace(',','')  \r\n",
        "      prices_list.append(price)\r\n",
        "  return prices_list\r\n"
      ],
      "execution_count": 25,
      "outputs": []
    },
    {
      "cell_type": "code",
      "metadata": {
        "id": "7TOgkDjTzrlP"
      },
      "source": [
        "price_test = []\r\n",
        "for url in urls:\r\n",
        "  price_test_ = price_sep(url)\r\n",
        "  price_test += price_test_"
      ],
      "execution_count": 26,
      "outputs": []
    },
    {
      "cell_type": "code",
      "metadata": {
        "id": "z0FefE_o0igc",
        "outputId": "03e09323-6355-44e0-f68c-65ce1e9392bd",
        "colab": {
          "base_uri": "https://localhost:8080/"
        }
      },
      "source": [
        "len(price_test)"
      ],
      "execution_count": 27,
      "outputs": [
        {
          "output_type": "execute_result",
          "data": {
            "text/plain": [
              "8800"
            ]
          },
          "metadata": {
            "tags": []
          },
          "execution_count": 27
        }
      ]
    },
    {
      "cell_type": "code",
      "metadata": {
        "id": "rzPrYhJ2maft"
      },
      "source": [
        "#creating a function to be able to return all list generated\n",
        "\n",
        "def scrape_page(url):\n",
        "  req = requests.get(url, headers=headers)\n",
        "  soup = BeautifulSoup(req.text,'html.parser')\n",
        "\n",
        "  titles = soup.select('.single-room-text > a > h2')\n",
        "  titles_list = []\n",
        "  for title in titles:\n",
        "    title = title.get_text()\n",
        "    title = title.split()\n",
        "    title = title[0:3]\n",
        "    title = ' '.join(title)\n",
        "    titles_list.append(title)\n",
        "\n",
        "  prices = soup_.select('.n50 > h3 > span')\n",
        "  prices_list = []\n",
        "  for i, price in enumerate(prices):\n",
        "    if i % 2 != 0:\n",
        "      price = price.get_text()\n",
        "      price = price.replace(',','')  \n",
        "      prices.append(price)\n",
        "\n",
        "  locations = soup.select('.single-room-text > h4')\n",
        "  locations_list = []\n",
        "  for i in locations:\n",
        "    loc = i.get_text().split()\n",
        "    loc = loc[-2]\n",
        "    loc = loc.replace(',', '')\n",
        "    locations_list.append(loc)\n",
        "\n",
        "  Amenities = soup.select('.fur-areea > span')\n",
        "  toilet_list = []\n",
        "  bathroom_list = []\n",
        "  bedroom_list = []\n",
        "\n",
        "  for i, a in enumerate(Amenities):\n",
        "    if i in range(2,66,3):\n",
        "        a = a.get_text().split()\n",
        "        toilet = a[0]\n",
        "        toilet_list.append(toilet)\n",
        "    elif i in range(1,66,3):\n",
        "        a = a.get_text().split()\n",
        "        bathroom = a[0]\n",
        "        bathroom_list.append(bathroom)\n",
        "    elif i in range (0,66,3):\n",
        "        a = a.get_text().split()\n",
        "        bedroom = a[0]\n",
        "        bedroom_list.append(bedroom)\n",
        "\n",
        "  return titles_list, prices_list, locations_list, toilet_list, bathroom_list, bedroom_list"
      ],
      "execution_count": 3,
      "outputs": []
    },
    {
      "cell_type": "code",
      "metadata": {
        "id": "Tu7qtN4_mafu"
      },
      "source": [
        "base_url = 'https://www.propertypro.ng/property-for-rent/in/lagos'\n",
        "urls= [base_url]\n",
        "for i in range(1,400):\n",
        "    url = base_url + '?page=' + str(i)\n",
        "    urls.append(url)"
      ],
      "execution_count": 24,
      "outputs": []
    },
    {
      "cell_type": "code",
      "metadata": {
        "id": "a01t4ewRmafu",
        "outputId": "b738f764-fa58-426c-e23c-8246cba23fb6",
        "colab": {
          "base_uri": "https://localhost:8080/"
        }
      },
      "source": [
        "len(urls)"
      ],
      "execution_count": 10,
      "outputs": [
        {
          "output_type": "execute_result",
          "data": {
            "text/plain": [
              "400"
            ]
          },
          "metadata": {
            "tags": []
          },
          "execution_count": 10
        }
      ]
    },
    {
      "cell_type": "code",
      "metadata": {
        "id": "GgMixhS-mafv"
      },
      "source": [
        "master_titles_, master_prices_, master_locations_, master_toilet_, master_bathroom_, master_bedroom_ = [], [], [], [], [], []\r\n",
        "\r\n",
        "for url in urls:\r\n",
        "  titles_list, prices_list, locations_list, toilet_list, bathroom_list, bedroom_list = scrape_page(url)\r\n",
        "  master_titles_ += titles_list\r\n",
        "  master_prices_ += prices_list\r\n",
        "  master_locations_ += locations_list\r\n",
        "  master_toilet_ += toilet_list\r\n",
        "  master_bathroom_ += bathroom_list\r\n",
        "  master_bedroom_ += bedroom_list"
      ],
      "execution_count": 11,
      "outputs": []
    },
    {
      "cell_type": "code",
      "metadata": {
        "id": "1h__B5CKmafw"
      },
      "source": [
        "# Returns data in form a dataframe with columns of specified names containing the assigned values from the list.\r\n",
        "all_data = pd.DataFrame(\r\n",
        "            {'Title':master_titles_,\r\n",
        "            'Location': master_locations_,\r\n",
        "            'Toilet': master_toilet_,\r\n",
        "            'Bath' : master_bathroom_,\r\n",
        "            'Bed' : master_bedroom_,\r\n",
        "            'Price' : price_test}\r\n",
        "        )"
      ],
      "execution_count": 28,
      "outputs": []
    },
    {
      "cell_type": "code",
      "metadata": {
        "id": "INpfFqkTmafw"
      },
      "source": [
        "# Reading data into CSV file.\r\n",
        "all_data.to_csv('Moses.csv', index=False)"
      ],
      "execution_count": 29,
      "outputs": []
    }
  ]
}